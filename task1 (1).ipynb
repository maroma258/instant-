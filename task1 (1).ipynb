{
  "nbformat": 4,
  "nbformat_minor": 0,
  "metadata": {
    "colab": {
      "provenance": []
    },
    "kernelspec": {
      "name": "python3",
      "display_name": "Python 3"
    },
    "language_info": {
      "name": "python"
    }
  },
  "cells": [
    {
      "cell_type": "code",
      "execution_count": null,
      "metadata": {
        "id": "3NuPgywVVT-X"
      },
      "outputs": [],
      "source": []
    },
    {
      "cell_type": "markdown",
      "source": [
        "## **1- Write a Python program to find the area of a triangle**"
      ],
      "metadata": {
        "id": "yGQ0PxZIWP0v"
      }
    },
    {
      "cell_type": "code",
      "source": [
        "print (\"ENTER the pase of a triangle :\")\n",
        "a=float (input())\n",
        "print(\"ENTER the height of a triangle :\")\n",
        "b=float(input())\n",
        "area = 0.5*a*b\n",
        "print(\"area:\", area)"
      ],
      "metadata": {
        "id": "fVEa_BPoWYPd",
        "colab": {
          "base_uri": "https://localhost:8080/"
        },
        "outputId": "2147d9f5-bc99-441e-fccb-0564633762cf"
      },
      "execution_count": 3,
      "outputs": [
        {
          "output_type": "stream",
          "name": "stdout",
          "text": [
            "ENTER the pase of a triangle :\n",
            "5\n",
            "ENTER the height of a triangle :\n",
            "6\n",
            "area: 15.0\n"
          ]
        }
      ]
    },
    {
      "cell_type": "markdown",
      "source": [
        "# **2- Write a Python program to swap two variables.**\n"
      ],
      "metadata": {
        "id": "3DD6RrL1Wa65"
      }
    },
    {
      "cell_type": "code",
      "source": [
        "print(\"ENTER the first number :\")\n",
        "a= int(input())\n",
        "print(\"ENTER the second number :\")\n",
        "b=int(input())\n",
        "print(a,b)\n",
        "a,b=b,a\n",
        "print(a,b)"
      ],
      "metadata": {
        "id": "8A-qk-XGWmrK",
        "colab": {
          "base_uri": "https://localhost:8080/"
        },
        "outputId": "00c04f95-edf6-4c4a-83c0-887ffda97683"
      },
      "execution_count": 1,
      "outputs": [
        {
          "output_type": "stream",
          "name": "stdout",
          "text": [
            "ENTER the first number :\n",
            "3\n",
            "ENTER the second number :\n",
            "4\n",
            "3 4\n",
            "4 3\n"
          ]
        }
      ]
    },
    {
      "cell_type": "code",
      "source": [],
      "metadata": {
        "id": "XlgtmZwAdRka"
      },
      "execution_count": null,
      "outputs": []
    },
    {
      "cell_type": "markdown",
      "source": [
        "# **3-Write a Python program to enter a number from user and convert this number from kilometers to miles.**\n"
      ],
      "metadata": {
        "id": "NXzXheUIXDEf"
      }
    },
    {
      "cell_type": "code",
      "source": [
        "print(\"enter the km num\")\n",
        "km=int (input())\n",
        "miles=km*0.621371\n",
        "print(miles)"
      ],
      "metadata": {
        "id": "-hO2ACQCX8xA",
        "colab": {
          "base_uri": "https://localhost:8080/"
        },
        "outputId": "fb6f89ab-c7ea-4a9d-8210-25140d103f60"
      },
      "execution_count": 2,
      "outputs": [
        {
          "output_type": "stream",
          "name": "stdout",
          "text": [
            "enter the km num\n",
            "21\n",
            "13.048791\n"
          ]
        }
      ]
    },
    {
      "cell_type": "code",
      "source": [
        "\n"
      ],
      "metadata": {
        "id": "qAfrmmXkPNjM"
      },
      "execution_count": null,
      "outputs": []
    },
    {
      "cell_type": "markdown",
      "source": [
        "What are low levels of language?\n",
        "What is a low-level language? Low-level language refers to a type of programming language that is closer to machine code and hardware than high-level languages. It provides direct control over the computer's hardware and resources, allowing programmers to write code at a more granular level.\n",
        "here are more examples of low-level programming languages:\n",
        "\n",
        "Machine Code: This is the lowest level of programming language, consisting of binary instructions that a computer’s CPU can directly execute. Each instruction corresponds to a specific operation at the hardware level.\n",
        "Assembly Language: Assembly language is a human-readable representation of machine code. It uses mnemonic codes to represent low-level operations. Programmers write code in assembly language, which is then translated into machine code by an assembler.\n",
        "C Language: C is often considered a low-level programming language because it provides a high degree of control over the hardware while still offering some abstractions. It is widely used for systems programming and developing operating systems.\n",
        "C++ Language: C++ is an extension of the C language and allows for both high-level and low-level programming. It includes features like classes and objects, but it also permits direct memory manipulation.\n",
        "\n",
        "what is high-level language example?\n",
        "Some examples of high-level languages include Python, Java, C++, JavaScript, Ruby, and C#. These languages have syntax and structures that are closer to human-readable language, making them easier for programmers to understand and use.\n",
        "\n",
        "\n",
        "\n",
        "\n",
        "\n",
        "\n",
        "\n",
        "What is an example of a compiled language?\n",
        "Some examples of compiled programming languages include C, C++, Java, and Swift. When you write code in a compiled language, you typically use an integrated development environment (IDE) to write and edit the code.\n",
        "\n",
        "What is an interpreted language example?\n",
        "Interpreted Programming Languages\n",
        "The interpreter reads the source code line by line and executes each line as it is read. The interpreter is responsible for translating the source code into machine code at runtime. Some examples of interpreted programming languages include Python, Ruby, and JavaScript.\n",
        "JavaScript and PHP are scripting languages that don't need a compilation process, which means they are interpreted. However, some programming languages, such as C, C++ and Go, use a compiler to translate the language to machine code and to run these instructions on the hardware of an underlying OS\n",
        "\n",
        "\n",
        "\n",
        "\n",
        "\n",
        "OPEN SOURCE SOFTWARE examples\n",
        "Examples are Firefox, OpenOffice, Gimp, Alfresco, Android, Zimbra, Thunderbird, MySQL, Mailman, Moodle, TeX, Samba, Perl, PHP, KDE etc\n",
        "\n",
        "CLOSED SOURCE SOFTWARE Examples\n",
        "Examples are Skype, Google earth, Adobe Flash, Virtual Box, Adobe Reader, Microsoft office, Microsoft Windows, WinRAR, mac OS, Adobe Flash Player etc.\n",
        "\n",
        "\n",
        "\n",
        "\n",
        "\n",
        "\n",
        "Examples of Object-Oriented Languages:\n",
        "Java: A strongly-typed, class-based language known for its platform independence and extensive use of OOP principles.\n",
        "C++: Combines procedural and object-oriented programming features, allowing low-level memory manipulation and high-level abstraction.\n",
        "Python: A high-level, dynamically-typed language that supports multiple programming paradigms, including OOP with classes and objects.\n",
        "C#: Developed by Microsoft, integrates with .NET framework and emphasizes OOP with features like properties, interfaces, and namespaces.\n",
        "\n",
        "Examples of Non-Object-Oriented Languages:\n",
        "C: A procedural language known for its efficiency, low-level memory access, and widespread use in system programming and embedded systems.\n",
        "Fortran: Originally designed for scientific and engineering calculations, it supports procedural programming with strong mathematical capabilities.\n",
        "Lisp: A functional programming language with a focus on symbolic computation, list processing, and macros."
      ],
      "metadata": {
        "id": "3Nlkec6xQY6G"
      }
    }
  ]
}