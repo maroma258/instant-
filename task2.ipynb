{
  "nbformat": 4,
  "nbformat_minor": 0,
  "metadata": {
    "colab": {
      "provenance": []
    },
    "kernelspec": {
      "name": "python3",
      "display_name": "Python 3"
    },
    "language_info": {
      "name": "python"
    }
  },
  "cells": [
    {
      "cell_type": "code",
      "execution_count": null,
      "metadata": {
        "id": "vs_SU3ng0tbN"
      },
      "outputs": [],
      "source": []
    },
    {
      "cell_type": "markdown",
      "source": [
        "\n",
        "# **WAP to enter a number from user and print its absolute value.**"
      ],
      "metadata": {
        "id": "MnWAiH2o0zSa"
      }
    },
    {
      "cell_type": "code",
      "source": [
        "x=float(input(\"enter a number:\"))\n",
        "print(abs(x))"
      ],
      "metadata": {
        "id": "2poWD-zvvbZU",
        "outputId": "3d25c29e-d63c-45ac-898e-7d4c9d12be79",
        "colab": {
          "base_uri": "https://localhost:8080/"
        }
      },
      "execution_count": 2,
      "outputs": [
        {
          "output_type": "stream",
          "name": "stdout",
          "text": [
            "enter a number:-20\n",
            "20.0\n"
          ]
        }
      ]
    },
    {
      "cell_type": "code",
      "source": [
        "x=float(input(\"enter a number:\"))\n",
        "if x<0:\n",
        "  print( \"absolute value of x :\",-x)\n",
        "else:\n",
        "  print(\"absolute value of x :\",x)"
      ],
      "metadata": {
        "id": "l3oLMLbk02Pj",
        "outputId": "40c26fb8-20ee-4605-807f-d1fa74bf4718",
        "colab": {
          "base_uri": "https://localhost:8080/"
        }
      },
      "execution_count": 4,
      "outputs": [
        {
          "output_type": "stream",
          "name": "stdout",
          "text": [
            "enter a number:-120\n",
            "absolute value of x : 120.0\n"
          ]
        }
      ]
    },
    {
      "cell_type": "code",
      "source": [],
      "metadata": {
        "id": "vpH-G-QpvbFf"
      },
      "execution_count": null,
      "outputs": []
    },
    {
      "cell_type": "markdown",
      "source": [
        "# **WAP to enter a year from user and check if it is leap year or not.**"
      ],
      "metadata": {
        "id": "pOnjNwNx03Tr"
      }
    },
    {
      "cell_type": "code",
      "source": [
        "year=int(input(\"enter a year:\"))\n",
        "if year%4==0:\n",
        "  print(year,\"is a leap year\")\n",
        "else:\n",
        "\n",
        "  print(year,\"is not a leap year\")"
      ],
      "metadata": {
        "id": "4PEtUTm51H6x",
        "outputId": "676140dc-f9f4-43ce-aef3-fc7b0f1e0b88",
        "colab": {
          "base_uri": "https://localhost:8080/"
        }
      },
      "execution_count": 6,
      "outputs": [
        {
          "output_type": "stream",
          "name": "stdout",
          "text": [
            "enter a year:2024\n",
            "2024 is a leap year\n"
          ]
        }
      ]
    },
    {
      "cell_type": "code",
      "source": [
        "year=int (input(\"enter a year:\"))\n",
        "if year%4==0:\n",
        "  if year %400==0 or year%100!=0:\n",
        "    print(year,\"is a leap year\")\n",
        "  else:\n",
        "    print(year,\"is not a leap year\")\n",
        "else:\n",
        "  print(year,\"is not a leap year\")"
      ],
      "metadata": {
        "id": "Vzz6c8VGwqAh",
        "outputId": "68f3bcd8-6210-4235-de0f-9604bfd36325",
        "colab": {
          "base_uri": "https://localhost:8080/"
        }
      },
      "execution_count": 10,
      "outputs": [
        {
          "output_type": "stream",
          "name": "stdout",
          "text": [
            "enter a year:2004\n",
            "2004 is a leap year\n"
          ]
        }
      ]
    },
    {
      "cell_type": "markdown",
      "source": [
        "# **WAP to enter the age of 3 person and print oldest and yougest among them.**"
      ],
      "metadata": {
        "id": "sn-NADUn1VGn"
      }
    },
    {
      "cell_type": "code",
      "source": [
        "age1 = int(input(\"Enter the age of the first person: \"))\n",
        "age2 = int(input(\"Enter the age of the second person: \"))\n",
        "age3 = int(input(\"Enter the age of the third person: \"))\n",
        "\n",
        "\n",
        "if age1 >= age2 and age1 >= age3:\n",
        "    oldest = age1\n",
        "elif age2 >= age1 and age2 >= age3:\n",
        "    oldest = age2\n",
        "else:\n",
        "    oldest = age3\n",
        "\n",
        "\n",
        "if age1 <= age2 and age1 <= age3:\n",
        "    youngest = age1\n",
        "elif age2 <= age1 and age2 <= age3:\n",
        "    youngest = age2\n",
        "else:\n",
        "    youngest = age3\n",
        "\n",
        "\n",
        "print(f\"The oldest person is {oldest} years old.\")\n",
        "print(f\"The youngest person is {youngest} years old.\")"
      ],
      "metadata": {
        "id": "uNGWS1AT1cYP",
        "outputId": "a8789817-7bb8-4ac3-b10d-9265252eb70a",
        "colab": {
          "base_uri": "https://localhost:8080/"
        }
      },
      "execution_count": 11,
      "outputs": [
        {
          "output_type": "stream",
          "name": "stdout",
          "text": [
            "Enter the age of the first person: 20\n",
            "Enter the age of the second person: 30\n",
            "Enter the age of the third person: 36\n",
            "The oldest person is 36 years old.\n",
            "The youngest person is 20 years old.\n"
          ]
        }
      ]
    },
    {
      "cell_type": "code",
      "source": [
        "a = int(input(\"Please Enter a age \"))\n",
        "b = int(input(\"Please Enter b age \"))\n",
        "c = int(input(\"Please Enter c age \"))\n",
        "\n",
        "if a > b and a > c:\n",
        "  print(\"A is the oldest\")\n",
        "elif b > a and b >c :\n",
        "  print(\"B is the oldest\")\n",
        "else:\n",
        "  print(\"C is the oldest\")\n",
        "\n",
        "\n",
        "if a < b and a < c:\n",
        "  print(\"A is the youngest\")\n",
        "elif b < a and b <c :\n",
        "  print(\"B is the youngest\")\n",
        "else:\n",
        "  print(\"C is the youngest\")"
      ],
      "metadata": {
        "id": "zZV5t1uIzPg2",
        "outputId": "5301cd82-040c-40ba-d9e3-80fb13d131a1",
        "colab": {
          "base_uri": "https://localhost:8080/"
        }
      },
      "execution_count": 34,
      "outputs": [
        {
          "output_type": "stream",
          "name": "stdout",
          "text": [
            "Please Enter a age 30\n",
            "Please Enter b age 80\n",
            "Please Enter c age 12\n",
            "B is the oldest\n",
            "C is the youngest\n"
          ]
        }
      ]
    },
    {
      "cell_type": "code",
      "source": [],
      "metadata": {
        "id": "MHRZyqT3zPHT"
      },
      "execution_count": null,
      "outputs": []
    },
    {
      "cell_type": "markdown",
      "source": [
        "# **Write a program that asks the user to enter a series of numbers. The program should ask for numbers until the user enters a negative number. Once the user enters a negative number, the program should stop and print the sum of all the positive numbers entered**\n",
        "# **Example**\n",
        "# **Enter a number: 5**\n",
        "# **Enter a number: 8**\n",
        "# **Enter a number: 12**\n",
        "# **Enter a number: -2**\n",
        "# **The sum of the positive numbers is 25.**"
      ],
      "metadata": {
        "id": "XFRRNGVj1dEw"
      }
    },
    {
      "cell_type": "code",
      "source": [
        "total_sum = 0\n",
        "\n",
        "while True:\n",
        "    number = float(input(\"Enter a number (negative to stop): \"))\n",
        "    if number < 0:\n",
        "        break\n",
        "    total_sum += number\n",
        "\n",
        "print(\"The sum of all positive numbers entered is:\", total_sum)\n"
      ],
      "metadata": {
        "id": "3CRBmKNj_g0K",
        "outputId": "e250bae7-372f-4a75-f410-f3a0d39abf65",
        "colab": {
          "base_uri": "https://localhost:8080/"
        }
      },
      "execution_count": 21,
      "outputs": [
        {
          "output_type": "stream",
          "name": "stdout",
          "text": [
            "Enter a number (negative to stop): 9\n",
            "Enter a number (negative to stop): 9\n",
            "Enter a number (negative to stop): 9\n",
            "Enter a number (negative to stop): 7\n",
            "Enter a number (negative to stop): 5\n",
            "Enter a number (negative to stop): 7\n",
            "Enter a number (negative to stop): -9\n",
            "The sum of all positive numbers entered is: 46.0\n"
          ]
        }
      ]
    },
    {
      "cell_type": "code",
      "source": [],
      "metadata": {
        "id": "mpq6Kb2eLtDe",
        "outputId": "3a27d47c-748b-40af-84f5-239141ece9f2",
        "colab": {
          "base_uri": "https://localhost:8080/"
        }
      },
      "execution_count": 23,
      "outputs": [
        {
          "output_type": "stream",
          "name": "stdout",
          "text": [
            "enter a number:5\n",
            "enter a number:8\n",
            "enter a number:-5\n",
            "the sum of all positive numbers entered is: 0\n"
          ]
        }
      ]
    },
    {
      "cell_type": "markdown",
      "source": [
        "# **Write a program that asks the user to enter their name and age. The program should check if the user's age is greater than or equal to 18. If it is, the program should print a message saying they are eligible to vote. Otherwise, the program should print a message saying they are not eligible to vote due to being underage.**"
      ],
      "metadata": {
        "id": "oODCHUj62DxA"
      }
    },
    {
      "cell_type": "code",
      "source": [
        "username=input(\"enter your name:\")\n",
        "age=int(input(\"enter your age:\"))\n",
        "if age>=18:\n",
        "  print(\"you are eligible to vote\")\n",
        "else:\n",
        "  print(\"you are not eligible to vote\")"
      ],
      "metadata": {
        "id": "Svls1cLA2JVA",
        "outputId": "50ede753-cd2a-46b0-f12b-6c652be8fd55",
        "colab": {
          "base_uri": "https://localhost:8080/"
        }
      },
      "execution_count": 26,
      "outputs": [
        {
          "output_type": "stream",
          "name": "stdout",
          "text": [
            "enter your name:marnon\n",
            "enter your age:20\n",
            "you are eligible to vote\n"
          ]
        }
      ]
    },
    {
      "cell_type": "markdown",
      "source": [
        "# **Write a Python Program to Find the Factorial of a Number**"
      ],
      "metadata": {
        "id": "2y5o5SqL3nvL"
      }
    },
    {
      "cell_type": "code",
      "source": [
        "num=int(input(\"enter a number:\"))\n",
        "factorial=1\n",
        "if num<0:\n",
        "  print(\"factorial does not exist for negative numbers\")\n",
        "\n",
        "elif num==0:\n",
        "  print(\"factorial of 0 is 1\")\n",
        "else:\n",
        "  for i in range(1,num+1):\n",
        "    factorial=factorial*i\n",
        "  print(\"factorial of\",num,\"is\",factorial)"
      ],
      "metadata": {
        "id": "Q_v3ns1D3tgy",
        "outputId": "705db5d9-564b-472c-aff5-67f376f4d9d9",
        "colab": {
          "base_uri": "https://localhost:8080/"
        }
      },
      "execution_count": 32,
      "outputs": [
        {
          "output_type": "stream",
          "name": "stdout",
          "text": [
            "enter a number:0\n",
            "factorial of 0 is 1\n"
          ]
        }
      ]
    },
    {
      "cell_type": "markdown",
      "source": [
        "research\n",
        "\n"
      ],
      "metadata": {
        "id": "0tH8ck6kRI2E"
      }
    }
  ]
}